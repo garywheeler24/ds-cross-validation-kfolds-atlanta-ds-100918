{
 "cells": [
  {
   "cell_type": "markdown",
   "metadata": {},
   "source": [
    "# Cross Validation\n",
    "We've looked at a range of topics involved with fitting a model to data. This began with the simplest of regression cases and determining criteria for an optimal model, which led us to mean squarred error. From there, we further examined overfitting and underfitting which motivated train test split and later, the bias variance tradeoff. Here, we synthesize many of these ideas into a new sampling, optimization meta-routine known as cross validation. \n",
    "\n",
    "A common form of cross validation is known as K-folds. In this process, the dataset is partitioned into K equally sized groups. Each group is then used as a hold out test set while the remaining k-1 groups are used as a training set. This then produces K different models, one for each of the hold out test sets. These models can then be averaged (perhaps a weighted average based on their test set performance) in order to produce a finalized model.\n",
    "\n",
    "This is also a very useful method for helping to determine the generalization of our models, or the anticipated difference between train and test errors for the model."
   ]
  },
  {
   "cell_type": "markdown",
   "metadata": {},
   "source": [
    "## 1. K-Folds\n",
    "Write a function k-folds that splits a dataset into k evenly sized pieces.\n",
    "If the full dataset is not divisible by k, make the first few folds one larger then later ones."
   ]
  },
  {
   "cell_type": "code",
   "execution_count": 12,
   "metadata": {},
   "outputs": [
    {
     "name": "stdout",
     "output_type": "stream",
     "text": [
      "       budget   domgross                                title  Response_Json  \\\n",
      "0    13000000   25682380                        21 &amp; Over              0   \n",
      "1    45658735   13414714                             Dredd 3D              0   \n",
      "2    20000000   53107035                     12 Years a Slave              0   \n",
      "3    61000000   75612460                               2 Guns              0   \n",
      "4    40000000   95020213                                   42              0   \n",
      "5   225000000   38362475                             47 Ronin              0   \n",
      "6    92000000   67349198               A Good Day to Die Hard              0   \n",
      "7    12000000   15323921                           About Time              0   \n",
      "8    13000000   18007317                            Admission              0   \n",
      "9   130000000   60522097                          After Earth              0   \n",
      "10   40000000  148430908                      American Hustle              0   \n",
      "11   25000000   37304874                 August: Osage County              0   \n",
      "12   50000000   19452138                  Beautiful Creatures              0   \n",
      "13   18000000   33345833                         Blue Jasmine              0   \n",
      "14   55000000  107136417                     Captain Phillips              0   \n",
      "15   30000000   35266619                               Carrie              0   \n",
      "16   78000000  119640264  Cloudy with a Chance of Meatballs 2              0   \n",
      "17   76000000  368065385                      Despicable Me 2              0   \n",
      "18    5500000   24477704                              Don Jon              0   \n",
      "19  120000000   93050117                              Elysium              0   \n",
      "20  110000000   61737191                     Ender&#39;s Game              0   \n",
      "21  100000000  107518682                                 Epic              0   \n",
      "22   40000000   57012977             Escape from Planet Earth              0   \n",
      "23   70000000   25213103                          Escape Plan              0   \n",
      "24   17000000   54239856                            Evil Dead              0   \n",
      "25  160000000  238679850                   Fast and Furious 6              0   \n",
      "26  150000000  393050114                               Frozen              0   \n",
      "27  140000000  122523060                G.I. Joe: Retaliation              0   \n",
      "28   60000000   46000903                       Gangster Squad              0   \n",
      "29   30000000    4167493                               Gloria              0   \n",
      "\n",
      "    Year  imdbRating  Metascore  imdbVotes         Model  \n",
      "0   2008         6.8         48     206513  4.912759e+07  \n",
      "1   2012         0.0          0          0  2.267265e+05  \n",
      "2   2013         8.1         96     537525  1.626624e+08  \n",
      "3   2013         6.7         55     173726  7.723381e+07  \n",
      "4   2013         7.5         62      74170  4.151958e+07  \n",
      "5   2013         6.3         28     128766  1.605898e+08  \n",
      "6   2013         5.3         28     180585  8.545563e+07  \n",
      "7   2013         7.8         55     240087  5.918637e+07  \n",
      "8   2013         5.7         48      30576  6.662264e+06  \n",
      "9   2013         4.9         33     174365  1.130470e+08  \n",
      "10  2013         7.3         90     398390  1.391177e+08  \n",
      "11  2013         7.2         58      75884  2.987166e+07  \n",
      "12  2013         6.2         52      76001  4.450435e+07  \n",
      "13  2013         7.3         78     170986  6.068826e+07  \n",
      "14  2013         7.8         83     368244  1.367860e+08  \n",
      "15  1976         7.4         85     142328  6.870045e+07  \n",
      "16  2013         6.4         59      75138  6.705665e+07  \n",
      "17  2013         7.4         62     324664  1.279797e+08  \n",
      "18  2013         6.6         66     208948  5.544622e+07  \n",
      "19  2013         6.6         61     378131  1.713503e+08  \n",
      "20  2013         0.0          0          0  4.339865e+07  \n",
      "21  2013         6.7         52      92389  8.146860e+07  \n",
      "22  2013         5.9         35      22430  1.465533e+07  \n",
      "23  2013         6.7         49     198767  8.586927e+07  \n",
      "24  2013         6.5         57     139940  4.076999e+07  \n",
      "25     0         0.0          0          0  2.383743e+08  \n",
      "26  2013         7.5         74     483555  2.242330e+08  \n",
      "27  2013         5.8         41     158210  1.193156e+08  \n",
      "28  2013         6.7         40     188846  7.125032e+07  \n",
      "29  1980         7.1          0          0 -1.783223e+07  \n"
     ]
    }
   ],
   "source": [
    "def kfolds(data, k):\n",
    "    data = pd.DataFrame()\n",
    "    rows = len(data)\n",
    "    fold_size = rows//k\n",
    "    fold_remainder = rows%k\n",
    "    folds = []\n",
    "    i_start = 0\n",
    "    \n",
    "    for n in range(1, k+1):\n",
    "        if n<= fold_remainder:\n",
    "            fold = data.iloc[i_start:i_start+fold_size+1]\n",
    "            folds.append(fold)\n",
    "            i_start += fold_size+1\n",
    "        else:\n",
    "            fold = data.iloc[i_start:i_start+fold_size]\n",
    "            folds.append[fold]\n",
    "            i_start+=fold_size\n",
    "            \n",
    "    return folds\n",
    "print(df)#Force data as pandas dataframe (optional but could be helpful)\n",
    "    #Be sure to account for the case where the dataset is not evenly divisible\n",
    " #folds should be a list of subsets of data"
   ]
  },
  {
   "cell_type": "markdown",
   "metadata": {},
   "source": [
    "## 2. Cross Validation\n",
    "* Split your dataset into 10 groups using your kfolds function above.\n",
    "* Perform linear regression on each and calculate the training and test error. \n",
    "* Create a simple bar chart to display the various train and test errors for each of the 10 folds."
   ]
  },
  {
   "cell_type": "code",
   "execution_count": 9,
   "metadata": {},
   "outputs": [],
   "source": [
    "import pandas as pd\n",
    "from sklearn.linear_model import LinearRegression\n",
    "import matplotlib.pyplot as plt\n",
    "%matplotlib inline\n",
    "import numpy as np"
   ]
  },
  {
   "cell_type": "code",
   "execution_count": 10,
   "metadata": {},
   "outputs": [
    {
     "data": {
      "text/html": [
       "<div>\n",
       "<style scoped>\n",
       "    .dataframe tbody tr th:only-of-type {\n",
       "        vertical-align: middle;\n",
       "    }\n",
       "\n",
       "    .dataframe tbody tr th {\n",
       "        vertical-align: top;\n",
       "    }\n",
       "\n",
       "    .dataframe thead th {\n",
       "        text-align: right;\n",
       "    }\n",
       "</style>\n",
       "<table border=\"1\" class=\"dataframe\">\n",
       "  <thead>\n",
       "    <tr style=\"text-align: right;\">\n",
       "      <th></th>\n",
       "      <th>budget</th>\n",
       "      <th>domgross</th>\n",
       "      <th>title</th>\n",
       "      <th>Response_Json</th>\n",
       "      <th>Year</th>\n",
       "      <th>imdbRating</th>\n",
       "      <th>Metascore</th>\n",
       "      <th>imdbVotes</th>\n",
       "      <th>Model</th>\n",
       "    </tr>\n",
       "  </thead>\n",
       "  <tbody>\n",
       "    <tr>\n",
       "      <th>0</th>\n",
       "      <td>13000000</td>\n",
       "      <td>25682380</td>\n",
       "      <td>21 &amp;amp; Over</td>\n",
       "      <td>0</td>\n",
       "      <td>2008</td>\n",
       "      <td>6.8</td>\n",
       "      <td>48</td>\n",
       "      <td>206513</td>\n",
       "      <td>4.912759e+07</td>\n",
       "    </tr>\n",
       "    <tr>\n",
       "      <th>1</th>\n",
       "      <td>45658735</td>\n",
       "      <td>13414714</td>\n",
       "      <td>Dredd 3D</td>\n",
       "      <td>0</td>\n",
       "      <td>2012</td>\n",
       "      <td>0.0</td>\n",
       "      <td>0</td>\n",
       "      <td>0</td>\n",
       "      <td>2.267265e+05</td>\n",
       "    </tr>\n",
       "    <tr>\n",
       "      <th>2</th>\n",
       "      <td>20000000</td>\n",
       "      <td>53107035</td>\n",
       "      <td>12 Years a Slave</td>\n",
       "      <td>0</td>\n",
       "      <td>2013</td>\n",
       "      <td>8.1</td>\n",
       "      <td>96</td>\n",
       "      <td>537525</td>\n",
       "      <td>1.626624e+08</td>\n",
       "    </tr>\n",
       "    <tr>\n",
       "      <th>3</th>\n",
       "      <td>61000000</td>\n",
       "      <td>75612460</td>\n",
       "      <td>2 Guns</td>\n",
       "      <td>0</td>\n",
       "      <td>2013</td>\n",
       "      <td>6.7</td>\n",
       "      <td>55</td>\n",
       "      <td>173726</td>\n",
       "      <td>7.723381e+07</td>\n",
       "    </tr>\n",
       "    <tr>\n",
       "      <th>4</th>\n",
       "      <td>40000000</td>\n",
       "      <td>95020213</td>\n",
       "      <td>42</td>\n",
       "      <td>0</td>\n",
       "      <td>2013</td>\n",
       "      <td>7.5</td>\n",
       "      <td>62</td>\n",
       "      <td>74170</td>\n",
       "      <td>4.151958e+07</td>\n",
       "    </tr>\n",
       "  </tbody>\n",
       "</table>\n",
       "</div>"
      ],
      "text/plain": [
       "     budget  domgross             title  Response_Json  Year  imdbRating  \\\n",
       "0  13000000  25682380     21 &amp; Over              0  2008         6.8   \n",
       "1  45658735  13414714          Dredd 3D              0  2012         0.0   \n",
       "2  20000000  53107035  12 Years a Slave              0  2013         8.1   \n",
       "3  61000000  75612460            2 Guns              0  2013         6.7   \n",
       "4  40000000  95020213                42              0  2013         7.5   \n",
       "\n",
       "   Metascore  imdbVotes         Model  \n",
       "0         48     206513  4.912759e+07  \n",
       "1          0          0  2.267265e+05  \n",
       "2         96     537525  1.626624e+08  \n",
       "3         55     173726  7.723381e+07  \n",
       "4         62      74170  4.151958e+07  "
      ]
     },
     "execution_count": 10,
     "metadata": {},
     "output_type": "execute_result"
    }
   ],
   "source": [
    "df = pd.read_excel('movie_data_detailed_with_ols.xlsx')\n",
    "X_feats = ['budget', 'imdbRating',\n",
    "       'Metascore', 'imdbVotes']\n",
    "y_feat = 'domgross'\n",
    "df.head()"
   ]
  },
  {
   "cell_type": "code",
   "execution_count": 11,
   "metadata": {},
   "outputs": [],
   "source": [
    "folds = kfolds(df, k=10)"
   ]
  },
  {
   "cell_type": "markdown",
   "metadata": {},
   "source": [
    "# Previews, just to demonstrate"
   ]
  },
  {
   "cell_type": "code",
   "execution_count": 21,
   "metadata": {},
   "outputs": [],
   "source": [
    "#folds[0]"
   ]
  },
  {
   "cell_type": "code",
   "execution_count": 13,
   "metadata": {},
   "outputs": [
    {
     "ename": "NameError",
     "evalue": "name 'train_test_split' is not defined",
     "output_type": "error",
     "traceback": [
      "\u001b[0;31m\u001b[0m",
      "\u001b[0;31mNameError\u001b[0mTraceback (most recent call last)",
      "\u001b[0;32m<ipython-input-13-900b40610335>\u001b[0m in \u001b[0;36m<module>\u001b[0;34m()\u001b[0m\n\u001b[1;32m      1\u001b[0m \u001b[0;32mfrom\u001b[0m \u001b[0msklearn\u001b[0m\u001b[0;34m.\u001b[0m\u001b[0mlinear_model\u001b[0m \u001b[0;32mimport\u001b[0m \u001b[0mLinearRegression\u001b[0m\u001b[0;34m\u001b[0m\u001b[0m\n\u001b[0;32m----> 2\u001b[0;31m \u001b[0mX_train\u001b[0m\u001b[0;34m,\u001b[0m \u001b[0mX_test\u001b[0m\u001b[0;34m,\u001b[0m \u001b[0my_train\u001b[0m\u001b[0;34m,\u001b[0m \u001b[0my_test\u001b[0m \u001b[0;34m=\u001b[0m \u001b[0mtrain_test_split\u001b[0m\u001b[0;34m(\u001b[0m\u001b[0mX\u001b[0m\u001b[0;34m,\u001b[0m\u001b[0my\u001b[0m\u001b[0;34m)\u001b[0m\u001b[0;34m\u001b[0m\u001b[0m\n\u001b[0m\u001b[1;32m      3\u001b[0m \u001b[0mnupe\u001b[0m \u001b[0;34m=\u001b[0m \u001b[0mLinearRegression\u001b[0m\u001b[0;34m(\u001b[0m\u001b[0;34m)\u001b[0m\u001b[0;34m\u001b[0m\u001b[0m\n\u001b[1;32m      4\u001b[0m \u001b[0mnupe\u001b[0m\u001b[0;34m.\u001b[0m\u001b[0mfit\u001b[0m\u001b[0;34m(\u001b[0m\u001b[0mX_train\u001b[0m\u001b[0;34m,\u001b[0m \u001b[0my_train\u001b[0m\u001b[0;34m)\u001b[0m\u001b[0;34m\u001b[0m\u001b[0m\n\u001b[1;32m      5\u001b[0m \u001b[0mprint\u001b[0m\u001b[0;34m(\u001b[0m\u001b[0;34m'Training r^2:'\u001b[0m\u001b[0;34m,\u001b[0m \u001b[0mnupe\u001b[0m\u001b[0;34m.\u001b[0m\u001b[0mscore\u001b[0m\u001b[0;34m(\u001b[0m\u001b[0mX_train\u001b[0m\u001b[0;34m,\u001b[0m \u001b[0my_train\u001b[0m\u001b[0;34m)\u001b[0m\u001b[0;34m)\u001b[0m\u001b[0;34m\u001b[0m\u001b[0m\n",
      "\u001b[0;31mNameError\u001b[0m: name 'train_test_split' is not defined"
     ]
    }
   ],
   "source": [
    "from sklearn.linear_model import LinearRegression\n",
    "X_train, X_test, y_train, y_test = train_test_split(X,y)\n",
    "nupe = LinearRegression()\n",
    "nupe.fit(X_train, y_train)\n",
    "print('Training r^2:', nupe.score(X_train, y_train))\n",
    "print('Testing r^2:', nupe.score(X_test, y_test))\n",
    "print('Training MSE:', mean_squared_error(y_train, nupe.predict(X_train)))\n",
    "print('Testing MSE:', mean_squared_error(y_test, nupe.predict(X_test)))#folds[1]"
   ]
  },
  {
   "cell_type": "code",
   "execution_count": 23,
   "metadata": {},
   "outputs": [],
   "source": [
    "# folds[8]"
   ]
  },
  {
   "cell_type": "code",
   "execution_count": 24,
   "metadata": {},
   "outputs": [],
   "source": [
    "# folds[9]"
   ]
  },
  {
   "cell_type": "code",
   "execution_count": 25,
   "metadata": {},
   "outputs": [],
   "source": [
    "def mse(residual_col):\n",
    "#     residual_col = pd.Series(residual_col)\n",
    "    return None"
   ]
  },
  {
   "cell_type": "code",
   "execution_count": 27,
   "metadata": {},
   "outputs": [],
   "source": [
    "test_errs = []\n",
    "train_errs = []\n",
    "k=10\n",
    "\n",
    "for n in range(k):\n",
    "    #Split into the train and test sets for this fold\n",
    "    train = None\n",
    "    test = None\n",
    "    #Fit Linear Regression Model\n",
    "    \n",
    "    #Evaluate Train and Test Errors\n",
    "\n",
    "#Plot Train Versus Test Errors for each of the 10 folds"
   ]
  },
  {
   "cell_type": "markdown",
   "metadata": {},
   "source": [
    "## 4. Analysis\n",
    "What do you notice about the train and test errors?"
   ]
  },
  {
   "cell_type": "code",
   "execution_count": null,
   "metadata": {},
   "outputs": [],
   "source": [
    "#Your answer here"
   ]
  },
  {
   "cell_type": "markdown",
   "metadata": {},
   "source": [
    "## 5. Shuffling Datasets\n",
    "Write a function to randomly sort your dataset prior to cross validation.  \n",
    "Why  might you want to do this?"
   ]
  },
  {
   "cell_type": "code",
   "execution_count": null,
   "metadata": {},
   "outputs": [],
   "source": [
    "#Your function here"
   ]
  },
  {
   "cell_type": "code",
   "execution_count": null,
   "metadata": {},
   "outputs": [],
   "source": [
    "#Your answer here"
   ]
  }
 ],
 "metadata": {
  "kernelspec": {
   "display_name": "Python 3",
   "language": "python",
   "name": "python3"
  },
  "language_info": {
   "codemirror_mode": {
    "name": "ipython",
    "version": 3
   },
   "file_extension": ".py",
   "mimetype": "text/x-python",
   "name": "python",
   "nbconvert_exporter": "python",
   "pygments_lexer": "ipython3",
   "version": "3.6.6"
  }
 },
 "nbformat": 4,
 "nbformat_minor": 2
}
